{
 "cells": [
  {
   "cell_type": "markdown",
   "id": "44698d73",
   "metadata": {
    "id": "44698d73"
   },
   "source": [
    "<a href=\"https://colab.research.google.com/drive/1rQe5kzkChFvRA-9sikOmuurIqwcH77gn\" target=\"_parent\"><img src=\"https://colab.research.google.com/assets/colab-badge.svg\" alt=\"Open In Colab\"/></a>\n",
    "\n",
    "\n",
    "# FiftyOne Workshop - Agriculture\n",
    "# Improve Coffee Dataset quality with SAM2 in FiftyOne"
   ]
  },
  {
   "cell_type": "markdown",
   "id": "fbb1a8a4",
   "metadata": {
    "id": "fbb1a8a4"
   },
   "source": [
    "## 🏆 Learning Objectives\n",
    "- Understand how to apply the SAM2 segmentation model.\n",
    "- Learn how to integrate SAM2 with FiftyOne.\n",
    "- Visualize segmentation results using FiftyOne.\n",
    "- Improve the dataset quality with Uniqueness features with FiftyOne"
   ]
  },
  {
   "cell_type": "markdown",
   "id": "61c53e89",
   "metadata": {
    "id": "61c53e89"
   },
   "source": [
    "## Requirements\n",
    "### Knowledge\n",
    "- Understanding of image segmentation.\n",
    "- Familiarity with deep learning-based annotation tools.\n",
    "### Installation\n",
    "Run the following commands to install necessary dependencies:\n",
    "```bash\n",
    "git clone https://github.com/facebookresearch/sam2.git && cd sam2\n",
    "pip install -e .\n",
    "pip install fiftyone\n",
    "pip install umap-learn>=0.5\n",
    "```"
   ]
  },
  {
   "cell_type": "code",
   "execution_count": null,
   "id": "Pe3mZthDlrhR",
   "metadata": {
    "colab": {
     "base_uri": "https://localhost:8080/",
     "height": 1000
    },
    "executionInfo": {
     "elapsed": 370580,
     "status": "ok",
     "timestamp": 1754313925817,
     "user": {
      "displayName": "Paula Ramos",
      "userId": "16781678718580955474"
     },
     "user_tz": 240
    },
    "id": "Pe3mZthDlrhR",
    "outputId": "8556ae19-53c7-4706-c436-485f4282ca8d"
   },
   "outputs": [],
   "source": [
    "!pip install sam2\n",
    "!pip install fiftyone\n",
    "!pip install umap-learn\n"
   ]
  },
  {
   "cell_type": "markdown",
   "id": "8818e3a1",
   "metadata": {
    "id": "8818e3a1"
   },
   "source": [
    "## 1. Loading the Dataset - Using HuggingFace Hub\n",
    "\n",
    "```\n",
    "import fiftyone as fo # base library and app\n",
    "import fiftyone.utils.huggingface as fouh # Hugging Face integration\n",
    "dataset_ = fouh.load_from_hub(\"pjramg/my_colombian_coffe_FO\", persistent=True, overwrite=True)\n",
    "\n",
    "# Define the new dataset name\n",
    "dataset_name = \"coffee_FO\"\n",
    "\n",
    "# Check if the dataset exists\n",
    "if dataset_name in fo.list_datasets():\n",
    "    print(f\"Dataset '{dataset_name}' exists. Loading...\")\n",
    "    dataset = fo.load_dataset(dataset_name)\n",
    "else:\n",
    "    print(f\"Dataset '{dataset_name}' does not exist. Creating a new one...\")\n",
    "    # Clone the dataset with a new name and make it persistent\n",
    "    dataset = dataset_.clone(dataset_name, persistent=True)\n",
    "\n",
    "```"
   ]
  },
  {
   "cell_type": "code",
   "execution_count": null,
   "id": "3OilpRT2rKnd",
   "metadata": {
    "colab": {
     "base_uri": "https://localhost:8080/"
    },
    "executionInfo": {
     "elapsed": 5833,
     "status": "ok",
     "timestamp": 1754314054020,
     "user": {
      "displayName": "Paula Ramos",
      "userId": "16781678718580955474"
     },
     "user_tz": 240
    },
    "id": "3OilpRT2rKnd",
    "outputId": "eede9c6c-c82f-48ad-b45a-621b2aed72bb"
   },
   "outputs": [],
   "source": [
    "import torch\n",
    "\n",
    "def get_device():\n",
    "    \"\"\"Get the appropriate device for model inference.\"\"\"\n",
    "    if torch.cuda.is_available():\n",
    "        return \"cuda\"\n",
    "    elif hasattr(torch.backends, \"mps\") and torch.backends.mps.is_available():\n",
    "        return \"mps\"\n",
    "    return \"cpu\"\n",
    "\n",
    "DEVICE = get_device()\n",
    "\n",
    "print(f\"Using device: {DEVICE}\")"
   ]
  },
  {
   "cell_type": "code",
   "execution_count": null,
   "id": "5e0ri49fahKe",
   "metadata": {
    "colab": {
     "base_uri": "https://localhost:8080/",
     "height": 122
    },
    "executionInfo": {
     "elapsed": 17266,
     "status": "ok",
     "timestamp": 1754314073667,
     "user": {
      "displayName": "Paula Ramos",
      "userId": "16781678718580955474"
     },
     "user_tz": 240
    },
    "id": "5e0ri49fahKe",
    "outputId": "5c95612c-ec0f-44d9-d763-42d0600b1b3c"
   },
   "outputs": [],
   "source": [
    "import fiftyone as fo\n",
    "import fiftyone.utils.huggingface as fouh\n",
    "from fiftyone.utils.coco import COCODetectionDatasetImporter\n",
    "\n",
    "import gdown\n",
    "\n",
    "# Download the coffee dataset from Google Drive\n",
    "\n",
    "url = \"https://drive.google.com/uc?id=1TMeeIzj8EyocVyXmOgKSLYE3vTLc2gPe\" # original\n",
    "gdown.download(url, output=\"coffee_original.zip\", quiet=False)"
   ]
  },
  {
   "cell_type": "code",
   "execution_count": null,
   "id": "kc1k53t32YIY",
   "metadata": {
    "colab": {
     "base_uri": "https://localhost:8080/"
    },
    "executionInfo": {
     "elapsed": 8063,
     "status": "ok",
     "timestamp": 1754314095841,
     "user": {
      "displayName": "Paula Ramos",
      "userId": "16781678718580955474"
     },
     "user_tz": 240
    },
    "id": "kc1k53t32YIY",
    "outputId": "a7ce638c-2daf-4885-9402-4d6b7731e9a6"
   },
   "outputs": [],
   "source": [
    "!unzip coffee_original.zip"
   ]
  },
  {
   "cell_type": "code",
   "execution_count": null,
   "id": "fUKCHKR_oyeK",
   "metadata": {
    "colab": {
     "base_uri": "https://localhost:8080/"
    },
    "executionInfo": {
     "elapsed": 19604,
     "status": "ok",
     "timestamp": 1754314119408,
     "user": {
      "displayName": "Paula Ramos",
      "userId": "16781678718580955474"
     },
     "user_tz": 240
    },
    "id": "fUKCHKR_oyeK",
    "outputId": "314df8d5-443c-4639-9c0c-8b926f195d85"
   },
   "outputs": [],
   "source": [
    "# import fiftyone as fo # base library and app\n",
    "# import fiftyone.utils.huggingface as fouh # Hugging Face integration\n",
    "# dataset_ = fouh.load_from_hub(\"pjramg/my_colombian_coffe_FO\", persistent=True, overwrite=True)\n",
    "\n",
    "# # Define the new dataset name\n",
    "dataset_name = \"coffee_original\"\n",
    "\n",
    "# Check if the dataset exists\n",
    "if dataset_name in fo.list_datasets():\n",
    "    print(f\"Dataset '{dataset_name}' exists. Loading...\")\n",
    "    dataset = fo.load_dataset(dataset_name)\n",
    "else:\n",
    "    print(f\"Dataset '{dataset_name}' does not exist. Creating a new one...\")\n",
    "    # Clone the dataset with a new name and make it persistent\n",
    "    dataset = fo.Dataset.from_dir(\n",
    "                dataset_type=fo.types.COCODetectionDataset,\n",
    "                dataset_dir=\"./colombian_coffee\",\n",
    "                data_path=\"images/default\",\n",
    "                labels_path=\"annotations/instances_default.json\",\n",
    "                label_types=\"segmentations\",\n",
    "                label_field=\"categories\",\n",
    "                name=\"coffee\",\n",
    "                include_id=True,\n",
    "                overwrite=True\n",
    "            )"
   ]
  },
  {
   "cell_type": "code",
   "execution_count": null,
   "id": "-ktWaEZgq-xJ",
   "metadata": {
    "colab": {
     "base_uri": "https://localhost:8080/"
    },
    "executionInfo": {
     "elapsed": 45,
     "status": "ok",
     "timestamp": 1754314122414,
     "user": {
      "displayName": "Paula Ramos",
      "userId": "16781678718580955474"
     },
     "user_tz": 240
    },
    "id": "-ktWaEZgq-xJ",
    "outputId": "c6e4eb22-8b2c-413f-d8c0-ff8fbbde8b65"
   },
   "outputs": [],
   "source": [
    "print(dataset)"
   ]
  },
  {
   "cell_type": "markdown",
   "id": "d464b2e1",
   "metadata": {
    "id": "d464b2e1"
   },
   "source": [
    "## 4. Find Uniqueness images\n",
    "\n",
    "How to use uniqueness detection, similarity search, and embedding visualizations for agricultural AI\n"
   ]
  },
  {
   "cell_type": "code",
   "execution_count": null,
   "id": "a0b38ae3",
   "metadata": {
    "colab": {
     "base_uri": "https://localhost:8080/"
    },
    "executionInfo": {
     "elapsed": 135330,
     "status": "ok",
     "timestamp": 1754314261985,
     "user": {
      "displayName": "Paula Ramos",
      "userId": "16781678718580955474"
     },
     "user_tz": 240
    },
    "id": "a0b38ae3",
    "outputId": "dc73b04c-3944-4919-c136-2815af2d233b"
   },
   "outputs": [],
   "source": [
    "import fiftyone.brain as fob\n",
    "\n",
    "results = fob.compute_similarity(dataset, brain_key=\"img_sim\")\n",
    "results.find_unique(100)"
   ]
  },
  {
   "cell_type": "code",
   "execution_count": null,
   "id": "ea04d931",
   "metadata": {
    "colab": {
     "base_uri": "https://localhost:8080/",
     "height": 431,
     "referenced_widgets": [
      "5abc595b4bec45e1806980b3af58c787",
      "0253497dd4ef475a9360a2244e5f55a9",
      "9c714ad0b49c4e6cb35398feb78f16a1",
      "f5edbd1ce4ae43dea9c1bb6f74f635ce",
      "7c7a9eb42f564eef816721a32d891fce",
      "b7c1126fdc0b4a19ab9a7b9aefa4632b",
      "7ee3d0c70f9d4cb88e6f76d1711d05f1",
      "fd3f7eac8f454815a2b4f0cc41440a7c",
      "68a778a0f3b74f47952d8936db714f45",
      "372ffa5a20fb4edb92ad06d9fc8f6095",
      "9960aeb4ab964dabbf8cea646fbbb9b3"
     ]
    },
    "executionInfo": {
     "elapsed": 156297,
     "status": "ok",
     "timestamp": 1754314421996,
     "user": {
      "displayName": "Paula Ramos",
      "userId": "16781678718580955474"
     },
     "user_tz": 240
    },
    "id": "ea04d931",
    "outputId": "1063187f-0a4d-4915-f2b7-9f7050f891d3"
   },
   "outputs": [],
   "source": [
    "vis_results = fob.compute_visualization(dataset, brain_key=\"img_vis\")\n"
   ]
  },
  {
   "cell_type": "code",
   "execution_count": null,
   "id": "35b9333d",
   "metadata": {
    "colab": {
     "base_uri": "https://localhost:8080/"
    },
    "executionInfo": {
     "elapsed": 31926,
     "status": "ok",
     "timestamp": 1754314460552,
     "user": {
      "displayName": "Paula Ramos",
      "userId": "16781678718580955474"
     },
     "user_tz": 240
    },
    "id": "35b9333d",
    "outputId": "1d3b9f0d-e302-4919-a8b0-06d3f1159cee"
   },
   "outputs": [],
   "source": [
    "import fiftyone.brain as fob\n",
    "\n",
    "fob.compute_uniqueness(dataset)"
   ]
  },
  {
   "cell_type": "code",
   "execution_count": null,
   "id": "czszw8vO4nyp",
   "metadata": {
    "colab": {
     "base_uri": "https://localhost:8080/",
     "height": 745
    },
    "executionInfo": {
     "elapsed": 7369,
     "status": "ok",
     "timestamp": 1754314469292,
     "user": {
      "displayName": "Paula Ramos",
      "userId": "16781678718580955474"
     },
     "user_tz": 240
    },
    "id": "czszw8vO4nyp",
    "outputId": "82739fc7-e8ac-44d9-d853-13c07305faa7"
   },
   "outputs": [],
   "source": [
    "session = fo.launch_app(dataset, auto=False)\n",
    "session.open_tab()"
   ]
  },
  {
   "cell_type": "code",
   "execution_count": null,
   "id": "463f5059",
   "metadata": {
    "colab": {
     "base_uri": "https://localhost:8080/"
    },
    "executionInfo": {
     "elapsed": 80,
     "status": "ok",
     "timestamp": 1754314476950,
     "user": {
      "displayName": "Paula Ramos",
      "userId": "16781678718580955474"
     },
     "user_tz": 240
    },
    "id": "463f5059",
    "outputId": "11f64d08-e78c-4526-f3c6-946e5ac27f71"
   },
   "outputs": [],
   "source": [
    "unique_view = dataset.select(results.unique_ids)\n",
    "session.view = unique_view\n",
    "\n",
    "print(unique_view)\n",
    "\n",
    "export_dir = \"unique_images_wo_annotations\"\n",
    "unique_view.export(\n",
    "    export_dir=export_dir,\n",
    "    dataset_type=fo.types.FiftyOneDataset,\n",
    ")"
   ]
  },
  {
   "cell_type": "code",
   "execution_count": null,
   "id": "bHZ66noS75U_",
   "metadata": {
    "colab": {
     "base_uri": "https://localhost:8080/"
    },
    "executionInfo": {
     "elapsed": 137,
     "status": "ok",
     "timestamp": 1754314482780,
     "user": {
      "displayName": "Paula Ramos",
      "userId": "16781678718580955474"
     },
     "user_tz": 240
    },
    "id": "bHZ66noS75U_",
    "outputId": "b4c7bf0e-ab82-4155-8164-d668734c9b06"
   },
   "outputs": [],
   "source": [
    "dataset_name_unique= \"unique_images_wo_annotations\"\n",
    "export_dir = \"unique_images_wo_annotations\"\n",
    "\n",
    "# Import the dataset\n",
    "dataset_unique_images_wo_annotations = fo.Dataset.from_dir(\n",
    "    dataset_name= dataset_name_unique,\n",
    "    dataset_dir=export_dir,\n",
    "    dataset_type=fo.types.FiftyOneDataset,\n",
    "    persistent=True\n",
    ")"
   ]
  },
  {
   "cell_type": "markdown",
   "id": "321006e5",
   "metadata": {
    "id": "321006e5"
   },
   "source": [
    "## 5. Pre-annoted with SAM2 in the 100 unique samples:"
   ]
  },
  {
   "cell_type": "code",
   "execution_count": null,
   "id": "13cbeb49",
   "metadata": {
    "colab": {
     "base_uri": "https://localhost:8080/"
    },
    "executionInfo": {
     "elapsed": 499731,
     "status": "ok",
     "timestamp": 1754314989568,
     "user": {
      "displayName": "Paula Ramos",
      "userId": "16781678718580955474"
     },
     "user_tz": 240
    },
    "id": "13cbeb49",
    "outputId": "dfeef401-2da2-483b-f4aa-ebb7fdf41078"
   },
   "outputs": [],
   "source": [
    "import fiftyone.zoo as foz\n",
    "model = foz.load_zoo_model(\"segment-anything-2-hiera-tiny-image-torch\")\n",
    "\n",
    "# Full automatic segmentations\n",
    "dataset_unique_images_wo_annotations.apply_model(model, label_field=\"auto\")\n"
   ]
  },
  {
   "cell_type": "code",
   "execution_count": null,
   "id": "ac22880f",
   "metadata": {
    "colab": {
     "base_uri": "https://localhost:8080/"
    },
    "executionInfo": {
     "elapsed": 57,
     "status": "ok",
     "timestamp": 1754315614592,
     "user": {
      "displayName": "Paula Ramos",
      "userId": "16781678718580955474"
     },
     "user_tz": 240
    },
    "id": "ac22880f",
    "outputId": "49695a47-cfe0-4016-d7c0-55b6d761a906"
   },
   "outputs": [],
   "source": [
    "session = fo.launch_app(dataset_unique_images_wo_annotations, auto=False)\n",
    "#session.open_tab()"
   ]
  },
  {
   "cell_type": "markdown",
   "id": "1dd18f1a",
   "metadata": {
    "id": "1dd18f1a"
   },
   "source": [
    "## 6. Assign labels to auto-labeling:"
   ]
  },
  {
   "cell_type": "code",
   "execution_count": null,
   "id": "bef605f1",
   "metadata": {
    "colab": {
     "base_uri": "https://localhost:8080/"
    },
    "executionInfo": {
     "elapsed": 139270,
     "status": "ok",
     "timestamp": 1754315762889,
     "user": {
      "displayName": "Paula Ramos",
      "userId": "16781678718580955474"
     },
     "user_tz": 240
    },
    "id": "bef605f1",
    "outputId": "c477ffd9-4350-4b85-9789-a92f5e82ee08"
   },
   "outputs": [],
   "source": [
    "import fiftyone as fo\n",
    "import numpy as np\n",
    "import torch\n",
    "import torchvision.transforms as transforms\n",
    "from PIL import Image\n",
    "from torchvision.models import resnet18\n",
    "from sklearn.metrics.pairwise import cosine_similarity\n",
    "\n",
    "# Load dataset\n",
    "#dataset = fo.load_dataset(\"coffee_FO\")\n",
    "\n",
    "# Ensure `polished_auto` field exists\n",
    "if \"polished_auto\" not in dataset_unique_images_wo_annotations.get_field_schema():\n",
    "    dataset_unique_images_wo_annotations.add_sample_field(\"polished_auto\", fo.EmbeddedDocumentField, embedded_doc_type=fo.Detections)\n",
    "\n",
    "# Load a pre-trained feature extractor (ResNet18)\n",
    "device = torch.device(\"cuda\" if torch.cuda.is_available() else \"cpu\")\n",
    "model = resnet18(pretrained=True).eval().to(device)\n",
    "\n",
    "# Define preprocessing for the bounding box patches\n",
    "transform = transforms.Compose([\n",
    "    transforms.Resize((224, 224)),\n",
    "    transforms.ToTensor(),\n",
    "    transforms.Normalize(mean=[0.485, 0.456, 0.406], std=[0.229, 0.224, 0.225]),\n",
    "])\n",
    "\n",
    "def extract_patch(sample, bbox):\n",
    "    \"\"\" Extracts an image patch corresponding to a bounding box from a sample. \"\"\"\n",
    "    image = Image.open(sample.filepath).convert(\"RGB\")\n",
    "    img_w, img_h = image.size\n",
    "\n",
    "    # Convert relative bounding box to absolute\n",
    "    x, y, w, h = bbox\n",
    "    abs_x, abs_y, abs_w, abs_h = int(x * img_w), int(y * img_h), int(w * img_w), int(h * img_h)\n",
    "\n",
    "    # Crop and preprocess\n",
    "    patch = image.crop((abs_x, abs_y, abs_x + abs_w, abs_y + abs_h))\n",
    "    return transform(patch).unsqueeze(0).to(device)  # Add batch dimension\n",
    "\n",
    "def compute_embedding(image_patch):\n",
    "    \"\"\" Computes the feature embedding of a cropped bounding box using ResNet. \"\"\"\n",
    "    with torch.no_grad():\n",
    "        features = model(image_patch)\n",
    "    return features.cpu().numpy().flatten()  # Convert to 1D vector\n",
    "\n",
    "def compute_iou(boxA, boxB):\n",
    "    \"\"\" Computes Intersection over Union (IoU) between two bounding boxes. \"\"\"\n",
    "    xA = max(boxA[0], boxB[0])\n",
    "    yA = max(boxA[1], boxB[1])\n",
    "    xB = min(boxA[0] + boxA[2], boxB[0] + boxB[2])\n",
    "    yB = min(boxA[1] + boxA[3], boxB[1] + boxB[3])\n",
    "\n",
    "    inter_area = max(0, xB - xA) * max(0, yB - yA)\n",
    "    boxA_area = boxA[2] * boxA[3]\n",
    "    boxB_area = boxB[2] * boxB[3]\n",
    "    union_area = boxA_area + boxB_area - inter_area\n",
    "\n",
    "    return inter_area / union_area if union_area > 0 else 0\n",
    "\n",
    "# Step 1: Extract ground truth information from the whole dataset (Embeddings)\n",
    "ground_truth_boxes = []\n",
    "y_positions = []\n",
    "gt_embeddings = []\n",
    "gt_labels = []\n",
    "\n",
    "for sample in dataset:\n",
    "    if sample.categories_segmentations and sample.categories_segmentations.detections:\n",
    "        for det in sample.categories_segmentations.detections:\n",
    "            bbox = det.bounding_box\n",
    "            ground_truth_boxes.append(bbox)\n",
    "            y_positions.append(bbox[1])  # Store Y positions\n",
    "            image_patch = extract_patch(sample, bbox)\n",
    "            gt_embeddings.append(compute_embedding(image_patch))\n",
    "            gt_labels.append(det.label)\n",
    "\n",
    "# Convert embeddings list to NumPy array\n",
    "gt_embeddings = np.array(gt_embeddings) if gt_embeddings else np.empty((0, 512))\n",
    "\n",
    "# Compute size and Y-axis constraints\n",
    "box_areas = [w * h for _, _, w, h in ground_truth_boxes]\n",
    "avg_box_area = np.mean(box_areas)\n",
    "std_box_area = np.std(box_areas)\n",
    "lower_size_limit = max(0, avg_box_area - 1.5 * std_box_area)\n",
    "upper_size_limit = avg_box_area + 1.5 * std_box_area\n",
    "min_y_gt = min(y_positions) if y_positions else 0\n",
    "max_y_gt = max(y_positions) if y_positions else 1\n",
    "\n",
    "# Step 2: Filter auto-generated bounding boxes\n",
    "for sample in dataset_unique_images_wo_annotations:\n",
    "    if sample.auto and sample.auto.detections:\n",
    "        valid_detections = []\n",
    "        for detection in sample.auto.detections:\n",
    "            x, y, bw, bh = detection.bounding_box\n",
    "            area = bw * bh\n",
    "            aspect_ratio = bw / bh if bh > 0 else 1\n",
    "            is_circular = 0.25 <= aspect_ratio <= 0.8  # Keep only circular/elliptical\n",
    "\n",
    "            if (lower_size_limit <= area <= upper_size_limit and\n",
    "                min_y_gt <= y <= max_y_gt and\n",
    "                is_circular):\n",
    "                valid_detections.append(detection)\n",
    "\n",
    "        # Step 3: Assign labels using embeddings\n",
    "        for det in valid_detections:\n",
    "            image_patch = extract_patch(sample, det.bounding_box)\n",
    "            embedding = compute_embedding(image_patch)\n",
    "\n",
    "            if len(gt_embeddings) > 0:\n",
    "                similarities = cosine_similarity([embedding], gt_embeddings)[0]\n",
    "                best_match_idx = np.argmax(similarities)\n",
    "                best_match_label = gt_labels[best_match_idx]\n",
    "            else:\n",
    "                best_match_label = \"unknown\"  # This should not happen\n",
    "\n",
    "            det.label = best_match_label\n",
    "\n",
    "        # Save filtered detections in `polished_auto`\n",
    "        sample[\"polished_auto\"] = fo.Detections(detections=valid_detections)\n",
    "        sample.save()\n",
    "\n",
    "print(\"Filtering and label assignment completed for `polished_auto`.\")\n"
   ]
  },
  {
   "cell_type": "code",
   "execution_count": null,
   "id": "aef16d96",
   "metadata": {
    "colab": {
     "base_uri": "https://localhost:8080/"
    },
    "executionInfo": {
     "elapsed": 5,
     "status": "ok",
     "timestamp": 1754316021887,
     "user": {
      "displayName": "Paula Ramos",
      "userId": "16781678718580955474"
     },
     "user_tz": 240
    },
    "id": "aef16d96",
    "outputId": "04670f49-fe98-42ff-e7e0-39f04da7e440"
   },
   "outputs": [],
   "source": [
    "print(dataset)\n",
    "print(dataset_unique_images_wo_annotations)"
   ]
  },
  {
   "cell_type": "code",
   "execution_count": null,
   "id": "b6b51cdf",
   "metadata": {
    "colab": {
     "base_uri": "https://localhost:8080/"
    },
    "executionInfo": {
     "elapsed": 58,
     "status": "ok",
     "timestamp": 1754316028506,
     "user": {
      "displayName": "Paula Ramos",
      "userId": "16781678718580955474"
     },
     "user_tz": 240
    },
    "id": "b6b51cdf",
    "outputId": "ccd4bbeb-ab4e-42c5-c5f1-8d1cb2876cfa"
   },
   "outputs": [],
   "source": [
    "session = fo.launch_app(dataset_unique_images_wo_annotations, auto=False)"
   ]
  },
  {
   "cell_type": "code",
   "execution_count": null,
   "id": "bdd42ad6",
   "metadata": {
    "colab": {
     "base_uri": "https://localhost:8080/"
    },
    "executionInfo": {
     "elapsed": 26747,
     "status": "ok",
     "timestamp": 1754316092984,
     "user": {
      "displayName": "Paula Ramos",
      "userId": "16781678718580955474"
     },
     "user_tz": 240
    },
    "id": "bdd42ad6",
    "outputId": "05357f9a-936a-43de-c9b2-b07b9c6afb55"
   },
   "outputs": [],
   "source": [
    "# Step 1: Duplicate `polished_auto` into `polished_auto_export`\n",
    "dataset1 = dataset_unique_images_wo_annotations._dataset  # get the base dataset\n",
    "\n",
    "if \"polished_auto_export\" not in dataset_unique_images_wo_annotations.get_field_schema():\n",
    "    dataset1.add_sample_field(\"polished_auto_export\", fo.EmbeddedDocumentField, embedded_doc_type=fo.Detections)\n",
    "\n",
    "for sample in dataset1:\n",
    "    if sample[\"polished_auto\"]:\n",
    "        sample[\"polished_auto_export\"] = sample[\"polished_auto\"].copy()  # Create a true duplicate\n",
    "    else:\n",
    "        sample[\"polished_auto_export\"] = None  # Ensure field exists\n",
    "    sample.save()\n",
    "\n",
    "print(\"Duplicated `polished_auto` to `polished_auto_export`.\")\n",
    "\n",
    "# Step 2: Clean `polished_auto_export` to remove `score` and `confidence`\n",
    "def clean_detections(sample, label_field):\n",
    "    \"\"\"Removes 'score' and 'confidence' fields to fix COCO export issues.\"\"\"\n",
    "    if sample[label_field] and sample[label_field].detections:\n",
    "        for det in sample[label_field].detections:\n",
    "            if hasattr(det, \"attributes\"):\n",
    "                det.attributes.pop(\"score\", None)  # Remove score field\n",
    "                det.attributes.pop(\"confidence\", None)  # Remove confidence field\n",
    "            if hasattr(det, \"score\"):\n",
    "                delattr(det, \"score\")  # Delete score if it exists\n",
    "            if hasattr(det, \"confidence\"):\n",
    "                delattr(det, \"confidence\")  # Delete confidence if it exists\n",
    "            det[\"iscrowd\"] = 0  # Ensure compatibility with COCO format\n",
    "    return sample\n",
    "\n",
    "# Apply cleaning function\n",
    "for sample in dataset1:\n",
    "    clean_detections(sample, \"polished_auto_export\")\n",
    "    sample.save()\n",
    "\n",
    "print(\"Cleaned `polished_auto_export` to remove conflicting fields.\")\n",
    "\n",
    "# Step 3: Export dataset in ...... format"
   ]
  },
  {
   "cell_type": "code",
   "execution_count": null,
   "id": "7539177c",
   "metadata": {
    "colab": {
     "base_uri": "https://localhost:8080/"
    },
    "executionInfo": {
     "elapsed": 196,
     "status": "ok",
     "timestamp": 1754319751269,
     "user": {
      "displayName": "Paula Ramos",
      "userId": "16781678718580955474"
     },
     "user_tz": 240
    },
    "id": "7539177c",
    "outputId": "3475824a-09eb-4d8b-e932-532e99e7ce36"
   },
   "outputs": [],
   "source": [
    "new_dataset= dataset_unique_images_wo_annotations.clone()\n",
    "print(new_dataset)"
   ]
  },
  {
   "cell_type": "code",
   "execution_count": null,
   "id": "zesoIfXBjpMd",
   "metadata": {
    "colab": {
     "base_uri": "https://localhost:8080/"
    },
    "executionInfo": {
     "elapsed": 59,
     "status": "ok",
     "timestamp": 1754319757364,
     "user": {
      "displayName": "Paula Ramos",
      "userId": "16781678718580955474"
     },
     "user_tz": 240
    },
    "id": "zesoIfXBjpMd",
    "outputId": "8dec7b40-b398-4a17-9c54-640c9c798972"
   },
   "outputs": [],
   "source": [
    "session = fo.launch_app(dataset_unique_images_wo_annotations, auto=False)\n",
    "#session.open_tab()"
   ]
  },
  {
   "cell_type": "code",
   "execution_count": null,
   "id": "a0bca83b",
   "metadata": {
    "colab": {
     "base_uri": "https://localhost:8080/"
    },
    "executionInfo": {
     "elapsed": 105457,
     "status": "ok",
     "timestamp": 1754319874124,
     "user": {
      "displayName": "Paula Ramos",
      "userId": "16781678718580955474"
     },
     "user_tz": 240
    },
    "id": "a0bca83b",
    "outputId": "4cb856af-41dd-40e5-b2fb-eb7be6185689"
   },
   "outputs": [],
   "source": [
    "# Step 3: Export dataset in COCO format\n",
    "export_dir = \"100_unique_coffee_coco\"\n",
    "dataset_unique_images_wo_annotations.export(\n",
    "    export_dir=export_dir,\n",
    "    dataset_type = fo.types.COCODetectionDataset,\n",
    "    label_field=\"polished_auto_export\",  # Use cleaned duplicate field\n",
    "    include_media=True,  # Export images along with annotations\n",
    ")"
   ]
  },
  {
   "cell_type": "code",
   "execution_count": null,
   "id": "d8f4d7cd",
   "metadata": {
    "colab": {
     "base_uri": "https://localhost:8080/"
    },
    "executionInfo": {
     "elapsed": 7556,
     "status": "ok",
     "timestamp": 1754319881689,
     "user": {
      "displayName": "Paula Ramos",
      "userId": "16781678718580955474"
     },
     "user_tz": 240
    },
    "id": "d8f4d7cd",
    "outputId": "91547c5e-e136-4795-f0cc-65c2a9b5ade4"
   },
   "outputs": [],
   "source": [
    "# Step 3: Export dataset in CVAT format\n",
    "export_dir = \"100_unique_coffee_cvat\"\n",
    "dataset_unique_images_wo_annotations.export(\n",
    "    export_dir=export_dir,\n",
    "    dataset_type=fo.types.CVATImageDataset,\n",
    "    label_field=\"polished_auto_export\",  # Use cleaned duplicate field\n",
    "    include_media=True,  # Export images along with annotations\n",
    ")"
   ]
  },
  {
   "cell_type": "code",
   "execution_count": null,
   "id": "07f479cf",
   "metadata": {
    "colab": {
     "base_uri": "https://localhost:8080/"
    },
    "executionInfo": {
     "elapsed": 401,
     "status": "ok",
     "timestamp": 1754319882096,
     "user": {
      "displayName": "Paula Ramos",
      "userId": "16781678718580955474"
     },
     "user_tz": 240
    },
    "id": "07f479cf",
    "outputId": "c7a21cfe-e65a-41ae-9aa2-34ede5e9fa37"
   },
   "outputs": [],
   "source": [
    "# Step 3: Export dataset in CVAT format\n",
    "export_dir = \"100_unique_coffee_FO\"\n",
    "dataset_unique_images_wo_annotations.export(\n",
    "    export_dir=export_dir,\n",
    "    dataset_type=fo.types.FiftyOneDataset,\n",
    "    label_field=\"polished_auto_export\",  # Use cleaned duplicate field\n",
    "    include_media=True,  # Export images along with annotations\n",
    ")"
   ]
  },
  {
   "cell_type": "markdown",
   "id": "48eda2fe",
   "metadata": {
    "id": "48eda2fe"
   },
   "source": [
    "### Optional you can send images to CVAT for fixing annotations"
   ]
  },
  {
   "cell_type": "code",
   "execution_count": null,
   "id": "9EryxdDGeIoJ",
   "metadata": {
    "colab": {
     "base_uri": "https://localhost:8080/"
    },
    "executionInfo": {
     "elapsed": 5828,
     "status": "ok",
     "timestamp": 1754319887927,
     "user": {
      "displayName": "Paula Ramos",
      "userId": "16781678718580955474"
     },
     "user_tz": 240
    },
    "id": "9EryxdDGeIoJ",
    "outputId": "8eb211d5-3020-40a5-a24d-c7cb9881936a"
   },
   "outputs": [],
   "source": [
    "!fiftyone plugins download \\\n",
    "    https://github.com/voxel51/fiftyone-plugins \\\n",
    "    --plugin-names @voxel51/annotation"
   ]
  },
  {
   "cell_type": "code",
   "execution_count": null,
   "id": "dV7fDQPfetiJ",
   "metadata": {
    "executionInfo": {
     "elapsed": 410,
     "status": "ok",
     "timestamp": 1754320143264,
     "user": {
      "displayName": "Paula Ramos",
      "userId": "16781678718580955474"
     },
     "user_tz": 240
    },
    "id": "dV7fDQPfetiJ"
   },
   "outputs": [],
   "source": [
    "!export FIFTYONE_CVAT_URL=\"https://www.cvat.ai/\"\n",
    "!export FIFTYONE_CVAT_USERNAME=\"your-username\"\n",
    "!export FIFTYONE_CVAT_PASSWORD=\"your-password\"\n",
    "!export FIFTYONE_CVAT_EMAIL=\"your-email\"  # if applicable"
   ]
  },
  {
   "cell_type": "code",
   "execution_count": null,
   "id": "d7296cd1",
   "metadata": {
    "colab": {
     "base_uri": "https://localhost:8080/"
    },
    "executionInfo": {
     "elapsed": 46263,
     "status": "ok",
     "timestamp": 1754320193627,
     "user": {
      "displayName": "Paula Ramos",
      "userId": "16781678718580955474"
     },
     "user_tz": 240
    },
    "id": "d7296cd1",
    "outputId": "363423d2-1004-489f-cf29-121b9e1c6245"
   },
   "outputs": [],
   "source": [
    "# We need to send the 100 uniqueness samples, but in this example we\n",
    "# Randomly select 5 samples to load to CVAT\n",
    "unique_5_view = dataset_unique_images_wo_annotations.take(5)\n",
    "\n",
    "# A unique identifier for this run\n",
    "anno_key = \"segs_run4\"\n",
    "\n",
    "# Upload the samples and launch CVAT\n",
    "anno_results = unique_5_view.annotate(\n",
    "    anno_key,\n",
    "    label_field=\"auto\",\n",
    "    label_type=\"instances\",\n",
    "    classes=[\"immature\", \"mature\", \"overmature\", \"semimature\"],\n",
    "    launch_editor=True,\n",
    ")"
   ]
  },
  {
   "cell_type": "markdown",
   "id": "afe67988",
   "metadata": {
    "id": "afe67988"
   },
   "source": [
    "![Image](https://github.com/user-attachments/assets/498d632a-c93a-41d7-82da-a81d6c29bbdf)"
   ]
  },
  {
   "cell_type": "markdown",
   "id": "91d29d46",
   "metadata": {
    "id": "91d29d46"
   },
   "source": [
    "## Next Steps\n",
    "- Fine-tune the SAM2 model for improved segmentation.\n",
    "- Integrate additional annotation tools with FiftyOne.\n",
    "- Explore active learning workflows for improving dataset quality."
   ]
  },
  {
   "cell_type": "code",
   "execution_count": null,
   "id": "PC2jNoGkV-fa",
   "metadata": {
    "colab": {
     "base_uri": "https://localhost:8080/"
    },
    "executionInfo": {
     "elapsed": 34812,
     "status": "ok",
     "timestamp": 1754320536997,
     "user": {
      "displayName": "Paula Ramos",
      "userId": "16781678718580955474"
     },
     "user_tz": 240
    },
    "id": "PC2jNoGkV-fa",
    "outputId": "b6b710bc-f9ec-4199-ab93-26e83a1696aa"
   },
   "outputs": [],
   "source": [
    "# Mount drive\n",
    "from google.colab import drive\n",
    "drive.mount('/content/drive')\n",
    "\n",
    "# Save in notebook1\n",
    "dataset_unique_images_wo_annotations.export(export_dir=\"/content/drive/MyDrive/coffee_dataset_sam2_FO\", dataset_type=fo.types.FiftyOneDataset)"
   ]
  }
 ],
 "metadata": {
  "accelerator": "GPU",
  "colab": {
   "gpuType": "T4",
   "provenance": []
  },
  "kernelspec": {
   "display_name": "Python 3",
   "name": "python3"
  },
  "language_info": {
   "codemirror_mode": {
    "name": "ipython",
    "version": 3
   },
   "file_extension": ".py",
   "mimetype": "text/x-python",
   "name": "python",
   "nbconvert_exporter": "python",
   "pygments_lexer": "ipython3",
   "version": "3.13.2"
  },
  "widgets": {
   "application/vnd.jupyter.widget-state+json": {
    "0253497dd4ef475a9360a2244e5f55a9": {
     "model_module": "@jupyter-widgets/controls",
     "model_module_version": "1.5.0",
     "model_name": "HTMLModel",
     "state": {
      "_dom_classes": [],
      "_model_module": "@jupyter-widgets/controls",
      "_model_module_version": "1.5.0",
      "_model_name": "HTMLModel",
      "_view_count": null,
      "_view_module": "@jupyter-widgets/controls",
      "_view_module_version": "1.5.0",
      "_view_name": "HTMLView",
      "description": "",
      "description_tooltip": null,
      "layout": "IPY_MODEL_b7c1126fdc0b4a19ab9a7b9aefa4632b",
      "placeholder": "​",
      "style": "IPY_MODEL_7ee3d0c70f9d4cb88e6f76d1711d05f1",
      "value": "Epochs completed: 100%| "
     }
    },
    "372ffa5a20fb4edb92ad06d9fc8f6095": {
     "model_module": "@jupyter-widgets/base",
     "model_module_version": "1.2.0",
     "model_name": "LayoutModel",
     "state": {
      "_model_module": "@jupyter-widgets/base",
      "_model_module_version": "1.2.0",
      "_model_name": "LayoutModel",
      "_view_count": null,
      "_view_module": "@jupyter-widgets/base",
      "_view_module_version": "1.2.0",
      "_view_name": "LayoutView",
      "align_content": null,
      "align_items": null,
      "align_self": null,
      "border": null,
      "bottom": null,
      "display": null,
      "flex": null,
      "flex_flow": null,
      "grid_area": null,
      "grid_auto_columns": null,
      "grid_auto_flow": null,
      "grid_auto_rows": null,
      "grid_column": null,
      "grid_gap": null,
      "grid_row": null,
      "grid_template_areas": null,
      "grid_template_columns": null,
      "grid_template_rows": null,
      "height": null,
      "justify_content": null,
      "justify_items": null,
      "left": null,
      "margin": null,
      "max_height": null,
      "max_width": null,
      "min_height": null,
      "min_width": null,
      "object_fit": null,
      "object_position": null,
      "order": null,
      "overflow": null,
      "overflow_x": null,
      "overflow_y": null,
      "padding": null,
      "right": null,
      "top": null,
      "visibility": null,
      "width": null
     }
    },
    "5abc595b4bec45e1806980b3af58c787": {
     "model_module": "@jupyter-widgets/controls",
     "model_module_version": "1.5.0",
     "model_name": "HBoxModel",
     "state": {
      "_dom_classes": [],
      "_model_module": "@jupyter-widgets/controls",
      "_model_module_version": "1.5.0",
      "_model_name": "HBoxModel",
      "_view_count": null,
      "_view_module": "@jupyter-widgets/controls",
      "_view_module_version": "1.5.0",
      "_view_name": "HBoxView",
      "box_style": "",
      "children": [
       "IPY_MODEL_0253497dd4ef475a9360a2244e5f55a9",
       "IPY_MODEL_9c714ad0b49c4e6cb35398feb78f16a1",
       "IPY_MODEL_f5edbd1ce4ae43dea9c1bb6f74f635ce"
      ],
      "layout": "IPY_MODEL_7c7a9eb42f564eef816721a32d891fce"
     }
    },
    "68a778a0f3b74f47952d8936db714f45": {
     "model_module": "@jupyter-widgets/controls",
     "model_module_version": "1.5.0",
     "model_name": "ProgressStyleModel",
     "state": {
      "_model_module": "@jupyter-widgets/controls",
      "_model_module_version": "1.5.0",
      "_model_name": "ProgressStyleModel",
      "_view_count": null,
      "_view_module": "@jupyter-widgets/base",
      "_view_module_version": "1.2.0",
      "_view_name": "StyleView",
      "bar_color": null,
      "description_width": ""
     }
    },
    "7c7a9eb42f564eef816721a32d891fce": {
     "model_module": "@jupyter-widgets/base",
     "model_module_version": "1.2.0",
     "model_name": "LayoutModel",
     "state": {
      "_model_module": "@jupyter-widgets/base",
      "_model_module_version": "1.2.0",
      "_model_name": "LayoutModel",
      "_view_count": null,
      "_view_module": "@jupyter-widgets/base",
      "_view_module_version": "1.2.0",
      "_view_name": "LayoutView",
      "align_content": null,
      "align_items": null,
      "align_self": null,
      "border": null,
      "bottom": null,
      "display": null,
      "flex": null,
      "flex_flow": null,
      "grid_area": null,
      "grid_auto_columns": null,
      "grid_auto_flow": null,
      "grid_auto_rows": null,
      "grid_column": null,
      "grid_gap": null,
      "grid_row": null,
      "grid_template_areas": null,
      "grid_template_columns": null,
      "grid_template_rows": null,
      "height": null,
      "justify_content": null,
      "justify_items": null,
      "left": null,
      "margin": null,
      "max_height": null,
      "max_width": null,
      "min_height": null,
      "min_width": null,
      "object_fit": null,
      "object_position": null,
      "order": null,
      "overflow": null,
      "overflow_x": null,
      "overflow_y": null,
      "padding": null,
      "right": null,
      "top": null,
      "visibility": null,
      "width": null
     }
    },
    "7ee3d0c70f9d4cb88e6f76d1711d05f1": {
     "model_module": "@jupyter-widgets/controls",
     "model_module_version": "1.5.0",
     "model_name": "DescriptionStyleModel",
     "state": {
      "_model_module": "@jupyter-widgets/controls",
      "_model_module_version": "1.5.0",
      "_model_name": "DescriptionStyleModel",
      "_view_count": null,
      "_view_module": "@jupyter-widgets/base",
      "_view_module_version": "1.2.0",
      "_view_name": "StyleView",
      "description_width": ""
     }
    },
    "9960aeb4ab964dabbf8cea646fbbb9b3": {
     "model_module": "@jupyter-widgets/controls",
     "model_module_version": "1.5.0",
     "model_name": "DescriptionStyleModel",
     "state": {
      "_model_module": "@jupyter-widgets/controls",
      "_model_module_version": "1.5.0",
      "_model_name": "DescriptionStyleModel",
      "_view_count": null,
      "_view_module": "@jupyter-widgets/base",
      "_view_module_version": "1.2.0",
      "_view_name": "StyleView",
      "description_width": ""
     }
    },
    "9c714ad0b49c4e6cb35398feb78f16a1": {
     "model_module": "@jupyter-widgets/controls",
     "model_module_version": "1.5.0",
     "model_name": "FloatProgressModel",
     "state": {
      "_dom_classes": [],
      "_model_module": "@jupyter-widgets/controls",
      "_model_module_version": "1.5.0",
      "_model_name": "FloatProgressModel",
      "_view_count": null,
      "_view_module": "@jupyter-widgets/controls",
      "_view_module_version": "1.5.0",
      "_view_name": "ProgressView",
      "bar_style": "success",
      "description": "",
      "description_tooltip": null,
      "layout": "IPY_MODEL_fd3f7eac8f454815a2b4f0cc41440a7c",
      "max": 500,
      "min": 0,
      "orientation": "horizontal",
      "style": "IPY_MODEL_68a778a0f3b74f47952d8936db714f45",
      "value": 500
     }
    },
    "b7c1126fdc0b4a19ab9a7b9aefa4632b": {
     "model_module": "@jupyter-widgets/base",
     "model_module_version": "1.2.0",
     "model_name": "LayoutModel",
     "state": {
      "_model_module": "@jupyter-widgets/base",
      "_model_module_version": "1.2.0",
      "_model_name": "LayoutModel",
      "_view_count": null,
      "_view_module": "@jupyter-widgets/base",
      "_view_module_version": "1.2.0",
      "_view_name": "LayoutView",
      "align_content": null,
      "align_items": null,
      "align_self": null,
      "border": null,
      "bottom": null,
      "display": null,
      "flex": null,
      "flex_flow": null,
      "grid_area": null,
      "grid_auto_columns": null,
      "grid_auto_flow": null,
      "grid_auto_rows": null,
      "grid_column": null,
      "grid_gap": null,
      "grid_row": null,
      "grid_template_areas": null,
      "grid_template_columns": null,
      "grid_template_rows": null,
      "height": null,
      "justify_content": null,
      "justify_items": null,
      "left": null,
      "margin": null,
      "max_height": null,
      "max_width": null,
      "min_height": null,
      "min_width": null,
      "object_fit": null,
      "object_position": null,
      "order": null,
      "overflow": null,
      "overflow_x": null,
      "overflow_y": null,
      "padding": null,
      "right": null,
      "top": null,
      "visibility": null,
      "width": null
     }
    },
    "f5edbd1ce4ae43dea9c1bb6f74f635ce": {
     "model_module": "@jupyter-widgets/controls",
     "model_module_version": "1.5.0",
     "model_name": "HTMLModel",
     "state": {
      "_dom_classes": [],
      "_model_module": "@jupyter-widgets/controls",
      "_model_module_version": "1.5.0",
      "_model_name": "HTMLModel",
      "_view_count": null,
      "_view_module": "@jupyter-widgets/controls",
      "_view_module_version": "1.5.0",
      "_view_name": "HTMLView",
      "description": "",
      "description_tooltip": null,
      "layout": "IPY_MODEL_372ffa5a20fb4edb92ad06d9fc8f6095",
      "placeholder": "​",
      "style": "IPY_MODEL_9960aeb4ab964dabbf8cea646fbbb9b3",
      "value": " 500/500 [00:03]"
     }
    },
    "fd3f7eac8f454815a2b4f0cc41440a7c": {
     "model_module": "@jupyter-widgets/base",
     "model_module_version": "1.2.0",
     "model_name": "LayoutModel",
     "state": {
      "_model_module": "@jupyter-widgets/base",
      "_model_module_version": "1.2.0",
      "_model_name": "LayoutModel",
      "_view_count": null,
      "_view_module": "@jupyter-widgets/base",
      "_view_module_version": "1.2.0",
      "_view_name": "LayoutView",
      "align_content": null,
      "align_items": null,
      "align_self": null,
      "border": null,
      "bottom": null,
      "display": null,
      "flex": null,
      "flex_flow": null,
      "grid_area": null,
      "grid_auto_columns": null,
      "grid_auto_flow": null,
      "grid_auto_rows": null,
      "grid_column": null,
      "grid_gap": null,
      "grid_row": null,
      "grid_template_areas": null,
      "grid_template_columns": null,
      "grid_template_rows": null,
      "height": null,
      "justify_content": null,
      "justify_items": null,
      "left": null,
      "margin": null,
      "max_height": null,
      "max_width": null,
      "min_height": null,
      "min_width": null,
      "object_fit": null,
      "object_position": null,
      "order": null,
      "overflow": null,
      "overflow_x": null,
      "overflow_y": null,
      "padding": null,
      "right": null,
      "top": null,
      "visibility": null,
      "width": null
     }
    }
   }
  }
 },
 "nbformat": 4,
 "nbformat_minor": 5
}
